{
  "nbformat": 4,
  "nbformat_minor": 0,
  "metadata": {
    "colab": {
      "name": "manglish_lyrics_generator.ipynb",
      "provenance": [],
      "collapsed_sections": []
    },
    "kernelspec": {
      "display_name": "Python 3",
      "name": "python3"
    },
    "language_info": {
      "name": "python"
    }
  },
  "cells": [
    {
      "cell_type": "markdown",
      "metadata": {
        "id": "cNB2NoY84NOx"
      },
      "source": [
        "##### UnZip the dataset"
      ]
    },
    {
      "cell_type": "code",
      "metadata": {
        "colab": {
          "base_uri": "https://localhost:8080/"
        },
        "id": "1NweAqqHYYgm",
        "outputId": "b6939c6d-4140-4573-9d48-e5db50735d16"
      },
      "source": [
        "!wget https://github.com/nandakishormpai2001/manglish_lyrics_generator/raw/main/model/train_notebook/data.zip"
      ],
      "execution_count": null,
      "outputs": [
        {
          "output_type": "stream",
          "text": [
            "--2021-05-24 17:28:53--  https://github.com/nandakishormpai2001/manglish_lyrics_generator/raw/main/model/train_notebook/data.zip\n",
            "Resolving github.com (github.com)... 52.192.72.89\n",
            "Connecting to github.com (github.com)|52.192.72.89|:443... connected.\n",
            "HTTP request sent, awaiting response... 302 Found\n",
            "Location: https://raw.githubusercontent.com/nandakishormpai2001/manglish_lyrics_generator/main/model/train_notebook/data.zip [following]\n",
            "--2021-05-24 17:28:53--  https://raw.githubusercontent.com/nandakishormpai2001/manglish_lyrics_generator/main/model/train_notebook/data.zip\n",
            "Resolving raw.githubusercontent.com (raw.githubusercontent.com)... 185.199.108.133, 185.199.109.133, 185.199.110.133, ...\n",
            "Connecting to raw.githubusercontent.com (raw.githubusercontent.com)|185.199.108.133|:443... connected.\n",
            "HTTP request sent, awaiting response... 200 OK\n",
            "Length: 3540509 (3.4M) [application/zip]\n",
            "Saving to: ‘data.zip’\n",
            "\n",
            "data.zip            100%[===================>]   3.38M  10.4MB/s    in 0.3s    \n",
            "\n",
            "2021-05-24 17:28:54 (10.4 MB/s) - ‘data.zip’ saved [3540509/3540509]\n",
            "\n"
          ],
          "name": "stdout"
        }
      ]
    },
    {
      "cell_type": "code",
      "metadata": {
        "id": "Nst343m9Zgdo",
        "colab": {
          "base_uri": "https://localhost:8080/"
        },
        "outputId": "725a503e-a479-49ea-b591-8954828adbc8"
      },
      "source": [
        "!unzip \"data.zip\""
      ],
      "execution_count": null,
      "outputs": [
        {
          "output_type": "stream",
          "text": [
            "Archive:  data.zip\n",
            "   creating: data/\n",
            "  inflating: data/dataset.csv        \n",
            "  inflating: data/index_to_word.json  \n",
            "  inflating: data/manglish_model.pth  \n",
            "  inflating: data/missed_movies.txt  \n",
            "  inflating: data/word_to_index.json  \n",
            "  inflating: data/words.txt          \n",
            "   creating: data/lyrics/\n",
            "  inflating: data/lyrics/0.txt       \n",
            "  inflating: data/lyrics/1.txt       \n",
            "  inflating: data/lyrics/10.txt      \n",
            "  inflating: data/lyrics/11.txt      \n",
            "  inflating: data/lyrics/12.txt      \n",
            "  inflating: data/lyrics/13.txt      \n",
            "  inflating: data/lyrics/14.txt      \n",
            "  inflating: data/lyrics/15.txt      \n",
            "  inflating: data/lyrics/16.txt      \n",
            "  inflating: data/lyrics/17.txt      \n",
            "  inflating: data/lyrics/18.txt      \n",
            "  inflating: data/lyrics/19.txt      \n",
            "  inflating: data/lyrics/2.txt       \n",
            "  inflating: data/lyrics/20.txt      \n",
            "  inflating: data/lyrics/21.txt      \n",
            "  inflating: data/lyrics/22.txt      \n",
            "  inflating: data/lyrics/23.txt      \n",
            "  inflating: data/lyrics/24.txt      \n",
            "  inflating: data/lyrics/25.txt      \n",
            "  inflating: data/lyrics/26.txt      \n",
            "  inflating: data/lyrics/27.txt      \n",
            "  inflating: data/lyrics/28.txt      \n",
            "  inflating: data/lyrics/29.txt      \n",
            "  inflating: data/lyrics/3.txt       \n",
            "  inflating: data/lyrics/30.txt      \n",
            "  inflating: data/lyrics/31.txt      \n",
            "  inflating: data/lyrics/32.txt      \n",
            "  inflating: data/lyrics/33.txt      \n",
            "  inflating: data/lyrics/34.txt      \n",
            "  inflating: data/lyrics/35.txt      \n",
            "  inflating: data/lyrics/36.txt      \n",
            "  inflating: data/lyrics/37.txt      \n",
            "  inflating: data/lyrics/38.txt      \n",
            "  inflating: data/lyrics/39.txt      \n",
            "  inflating: data/lyrics/4.txt       \n",
            "  inflating: data/lyrics/40.txt      \n",
            "  inflating: data/lyrics/41.txt      \n",
            "  inflating: data/lyrics/42.txt      \n",
            "  inflating: data/lyrics/43.txt      \n",
            "  inflating: data/lyrics/44.txt      \n",
            "  inflating: data/lyrics/45.txt      \n",
            "  inflating: data/lyrics/46.txt      \n",
            "  inflating: data/lyrics/47.txt      \n",
            "  inflating: data/lyrics/48.txt      \n",
            "  inflating: data/lyrics/49.txt      \n",
            "  inflating: data/lyrics/5.txt       \n",
            "  inflating: data/lyrics/6.txt       \n",
            "  inflating: data/lyrics/7.txt       \n",
            "  inflating: data/lyrics/8.txt       \n",
            "  inflating: data/lyrics/9.txt       \n",
            "  inflating: requirements.txt        \n"
          ],
          "name": "stdout"
        }
      ]
    },
    {
      "cell_type": "markdown",
      "metadata": {
        "id": "K_-XSssAF25r"
      },
      "source": [
        "##### Pip Install the required libraries"
      ]
    },
    {
      "cell_type": "code",
      "metadata": {
        "id": "j3eunFTZZX8A"
      },
      "source": [
        "!pip install -r requirements.txt"
      ],
      "execution_count": null,
      "outputs": []
    },
    {
      "cell_type": "markdown",
      "metadata": {
        "id": "LQd50gEfF-CR"
      },
      "source": [
        "##### Import the libraries"
      ]
    },
    {
      "cell_type": "code",
      "metadata": {
        "id": "iayTSy1fwso_"
      },
      "source": [
        "import torch\n",
        "import pandas as pd\n",
        "from collections import Counter\n",
        "import numpy as np\n",
        "from torch import nn, optim\n",
        "from torch.utils.data import DataLoader\n",
        "import os\n",
        "import random\n",
        "import pickle\n",
        "import matplotlib.pyplot as plt"
      ],
      "execution_count": null,
      "outputs": []
    },
    {
      "cell_type": "markdown",
      "metadata": {
        "id": "ka3EGkwmVcLu"
      },
      "source": [
        "###### Define the Model Class"
      ]
    },
    {
      "cell_type": "code",
      "metadata": {
        "id": "tHItmqLzpPpZ"
      },
      "source": [
        "class Model(nn.Module):\n",
        "    # Set hidden layer parameters\n",
        "    def __init__(self, dataset):\n",
        "        super(Model, self).__init__()\n",
        "        self.lstm_size = 128\n",
        "        self.embedding_dim = 128\n",
        "        self.num_layers = 2\n",
        "\n",
        "        n_vocab = len(dataset.uniq_words)\n",
        "        \n",
        "        # Embedding layer converts word indexes to word vectors.\n",
        "        self.embedding = nn.Embedding(\n",
        "            num_embeddings=n_vocab,\n",
        "            embedding_dim=self.embedding_dim,\n",
        "        )\n",
        "        # Define the LSTM, the number of expected features and that of layers\n",
        "        self.lstm = nn.LSTM(\n",
        "            input_size=self.lstm_size,\n",
        "            hidden_size=self.lstm_size,\n",
        "            num_layers=self.num_layers,\n",
        "            dropout=0.2,\n",
        "        )\n",
        "        # Define the Fully Connected layer\n",
        "        self.fc = nn.Linear(self.lstm_size, n_vocab)\n",
        "\n",
        "    # Defines the network structure, here consisting of the embedding layer, LSTM layer and the fully connected layer. \n",
        "    def forward(self, x, prev_state):\n",
        "        embed = self.embedding(x)\n",
        "        output, state = self.lstm(embed, prev_state)\n",
        "        logits = self.fc(output)\n",
        "        return logits, state\n",
        "\n",
        "    def init_state(self, sequence_length):\n",
        "        return (torch.zeros(self.num_layers, sequence_length, self.lstm_size),\n",
        "                torch.zeros(self.num_layers, sequence_length, self.lstm_size))"
      ],
      "execution_count": null,
      "outputs": []
    },
    {
      "cell_type": "markdown",
      "metadata": {
        "id": "GjM9pIRIVjfW"
      },
      "source": [
        "##### Define the Dataset Class"
      ]
    },
    {
      "cell_type": "code",
      "metadata": {
        "id": "gJzEzoZRwrjc"
      },
      "source": [
        "class Dataset():\n",
        "    def __init__(self):\n",
        "        self.words = self.load_words()\n",
        "        text_file = open(\"data/words.txt\", \"w\")\n",
        "        text_file.write(\" \".join(self.words))\n",
        "        text_file.close()\n",
        "        self.uniq_words = self.get_uniq_words()\n",
        "\n",
        "        # index_to_word and word_to_index converts words to number indexes and visa versa.\n",
        "        self.index_to_word = {index: word for index, word in enumerate(self.uniq_words)}\n",
        "        self.word_to_index = {word: index for index, word in enumerate(self.uniq_words)}\n",
        "        with open('data/index_to_word.json', 'wb') as iw:\n",
        "            pickle.dump(self.index_to_word, iw)\n",
        "        with open('data/word_to_index.json', 'wb') as wi:\n",
        "            pickle.dump(self.word_to_index, wi)    \n",
        "        \n",
        "\n",
        "        self.words_indexes = [self.word_to_index[w] for w in self.words]\n",
        "\n",
        "        self.sequence_length=100\n",
        "\n",
        "    \n",
        "    def load_words(self):\n",
        "\n",
        "        \"\"\" Returns words [list] - list of words\n",
        "        Open the files in the dataset, and for each file read its contents, \n",
        "        replace the endline with an ' <EOL> ' and then split each \n",
        "        words by space. These words are then returned in a list.\"\"\"\n",
        "        \n",
        "        files = os.listdir(\"data/lyrics\")\n",
        "        words = []\n",
        "        for file in files:\n",
        "            with open(\"data/lyrics/\"+file,'r') as txtfile:\n",
        "                lyrics = txtfile.read()\n",
        "                lyrics = lyrics.replace(\"\\n\",\" <EOL> \")\n",
        "                words = words + lyrics.split(\" \")\n",
        "        return words\n",
        "    \n",
        "    # Gets a list of unique words\n",
        "    def get_uniq_words(self):\n",
        "        word_counts = Counter(self.words)\n",
        "        return sorted(word_counts, key=word_counts.get, reverse=True)\n",
        "\n",
        "    def __len__(self):\n",
        "        return len(self.words_indexes) - self.sequence_length\n",
        "\n",
        "    # To support the indexing such that dataset[i] can be used to get ith sample.\n",
        "    def __getitem__(self, index):\n",
        "        return (\n",
        "            torch.tensor(self.words_indexes[index:index+self.sequence_length]),\n",
        "            torch.tensor(self.words_indexes[index+1:index+self.sequence_length+1]),\n",
        "        )"
      ],
      "execution_count": null,
      "outputs": []
    },
    {
      "cell_type": "markdown",
      "metadata": {
        "id": "QVjn5254lAZz"
      },
      "source": [
        "##### Define the function to train the model"
      ]
    },
    {
      "cell_type": "code",
      "metadata": {
        "id": "bYNdnyfZwsDY"
      },
      "source": [
        "def train(dataset, model):\n",
        "    model.train()\n",
        "    dataloader = DataLoader(dataset, batch_size=128,shuffle=True)\n",
        "    criterion = nn.CrossEntropyLoss()\n",
        "    optimizer = optim.Adam(model.parameters(), lr=0.001)\n",
        "    num_of_epochs = 2\n",
        "\n",
        "    # Declare lists to store the respective values, inorder to plot graphs later\n",
        "    epochs = []\n",
        "    losses = []\n",
        "    val_losses = []\n",
        "\n",
        "    # Iterate the loop, for the number of epochs\n",
        "    for epoch in range(num_of_epochs):\n",
        "        state_h, state_c = model.init_state(100)\n",
        "        state_h_val, state_c_val = model.init_state(100)\n",
        "        cnt = 0\n",
        "        val_cnt=0\n",
        "        tot_loss = 0\n",
        "        tot_val_loss = 0\n",
        "        \n",
        "        for batch, (x, y) in enumerate(dataloader):\n",
        "            # Training (85% of the dataset)\n",
        "            if (batch<46):\n",
        "                # Sets the gradients of all optimized tensors to zero\n",
        "                optimizer.zero_grad()\n",
        "\n",
        "                y_pred, (state_h, state_c) = model(x, (state_h, state_c))\n",
        "                # Compute loss (here CrossEntropyLoss)\n",
        "                loss = criterion(y_pred.transpose(1, 2), y)\n",
        "\n",
        "                state_h = state_h.detach()\n",
        "                state_c = state_c.detach()\n",
        "\n",
        "                # Compute gradient of the loss with respect to all the learnable parameters of the model. \n",
        "                loss.backward()\n",
        "                # update its parameters\n",
        "                optimizer.step()\n",
        "\n",
        "                # Calcuate the total loss\n",
        "                tot_loss = tot_loss + loss\n",
        "                cnt = cnt + 1\n",
        "            \n",
        "            # Validation using 15% of the dataset\n",
        "            else:\n",
        "                with torch.no_grad():\n",
        "                    y_pred, (state_h_val, state_c_val) = model(x, (state_h_val, state_c_val))\n",
        "                    # Compute loss (here CrossEntropyLoss)\n",
        "                    val_loss = criterion(y_pred.transpose(1, 2), y)\n",
        "\n",
        "                state_h_val = state_h_val.detach()\n",
        "                state_c_val = state_c_val.detach()\n",
        "\n",
        "                # Calcuate the total loss\n",
        "                tot_val_loss = tot_val_loss + val_loss\n",
        "                val_cnt = val_cnt + 1\n",
        "        \n",
        "        # Append the epochs number and the loss in thier lists\n",
        "        epochs.append(epoch)\n",
        "        losses.append((tot_loss/cnt))\n",
        "        val_losses.append((tot_val_loss/val_cnt))\n",
        "        print(\"epoch = {}  loss = {} val_loss = {} \".format(epoch, (tot_loss/cnt),(tot_val_loss/val_cnt)))\n",
        "\n",
        "    # Plot a Validation Loss vs Epochs graph \n",
        "    plt.plot(epochs, val_losses, color='green', linewidth = 3, \n",
        "         marker='o', markerfacecolor='blue', markersize=8) \n",
        "    plt.xlabel('epochs ---->',color='m',fontsize='xx-large' ) \n",
        "    plt.ylabel('validation loss ------>',color='m',fontsize='xx-large') \n",
        "    axes = plt.gca()        # 'gca' - get current axes\n",
        "    axes.set_facecolor('c') #'c' - cyan\n",
        "    axes.tick_params(axis='y', which='both', colors='tomato')\n",
        "    axes.tick_params(axis='x', which='both', colors='#20ff14')\n",
        "    plt.title(\"Val Loss vs Epoch\",color='m',fontsize='xx-large')"
      ],
      "execution_count": null,
      "outputs": []
    },
    {
      "cell_type": "markdown",
      "metadata": {
        "id": "j9ixfIDsl5Wm"
      },
      "source": [
        "##### Define the function to generate the lyrics\n"
      ]
    },
    {
      "cell_type": "code",
      "metadata": {
        "id": "fnE1IQ8cmxmu"
      },
      "source": [
        "# To avoid gradients update\n",
        "@torch.no_grad()\n",
        "def generate(model,next_words=100):\n",
        "\n",
        "    # loading lyrics corpus\n",
        "    words_file = open(\"data/words.txt\",\"r\")\n",
        "    words = words_file.read().split(\" \")\n",
        "\n",
        "    # randomly choosing 3 consecutive words from corpus of lyrics\n",
        "    # for lyrics generation\n",
        "    while True:\n",
        "        n = random.randint(0,len(words))\n",
        "        text = \" \".join(words[n:n+3])\n",
        "        if(\"<EOL>\" not in text and \"(\" not in text and \")\" not in text):\n",
        "            break\n",
        "\n",
        "    loaded_model = model\n",
        "    loaded_model.load_state_dict(torch.load(\"manglish_model-ep35-bs128.pth\"))\n",
        "    loaded_model.eval()\n",
        "    words = text.split(' ')\n",
        "\n",
        "    state_h, state_c = model.init_state(3)\n",
        "\n",
        "    # Loading dictionaries for word to index and vice versa \n",
        "    with open('data/word_to_index.json', 'rb') as wi:\n",
        "        word_to_index = pickle.load(wi)\n",
        "    with open('data/index_to_word.json', 'rb') as iw:\n",
        "        index_to_word = pickle.load(iw)\n",
        "\n",
        "    # for loop to generate lyrics with 100 words\n",
        "    for i in range(0, next_words):\n",
        "        x = torch.tensor([[word_to_index[w] for w in words[i:]]])\n",
        "        y_pred, (state_h, state_c) = loaded_model(x, (state_h, state_c))\n",
        "\n",
        "        last_word_logits = y_pred[0][-1]\n",
        "        p = torch.nn.functional.softmax(last_word_logits, dim=0).detach().numpy()\n",
        "        word_index = np.random.choice(len(last_word_logits), p=p)\n",
        "        words.append(index_to_word[word_index])\n",
        "    \n",
        "    lyrics = \" \".join(words)\n",
        "    # formatting the lyrics\n",
        "    lyrics = lyrics.replace(\" <EOL> \",\"\\n\")\n",
        "    lyrics = lyrics.replace(\"<EOL> \",\"\\n\")\n",
        "    lyrics = lyrics.replace(\" <EOL>\",\"\\n\")\n",
        "\n",
        "    words_file.close()\n",
        "    # returning as a string\n",
        "    return lyrics"
      ],
      "execution_count": null,
      "outputs": []
    },
    {
      "cell_type": "code",
      "metadata": {
        "id": "Da4_5Y0nGZCx"
      },
      "source": [
        "dataset = Dataset()\n",
        "model = Model(dataset)"
      ],
      "execution_count": null,
      "outputs": []
    },
    {
      "cell_type": "code",
      "metadata": {
        "id": "389-6-kE2Mix",
        "colab": {
          "base_uri": "https://localhost:8080/",
          "height": 341
        },
        "outputId": "6e67b7de-0a6c-4661-b7fd-492d911f9cc2"
      },
      "source": [
        "train(dataset, model)"
      ],
      "execution_count": null,
      "outputs": [
        {
          "output_type": "stream",
          "text": [
            "epoch = 0  loss = 6.513244152069092 val_loss = 6.017319202423096 \n",
            "epoch = 1  loss = 5.93756103515625 val_loss = 5.796727657318115 \n"
          ],
          "name": "stdout"
        },
        {
          "output_type": "display_data",
          "data": {
            "image/png": "[encoded data removed]",
            "text/plain": [
              "<Figure size 432x288 with 1 Axes>"
            ]
          },
          "metadata": {
            "tags": [],
            "needs_background": "dark"
          }
        }
      ]
    },
    {
      "cell_type": "code",
      "metadata": {
        "id": "9Wt2ByACZ1g1"
      },
      "source": [
        "#Save the trained model\n",
        "torch.save(model.state_dict(), \"manglish_model-ep35-bs128.pth\")"
      ],
      "execution_count": null,
      "outputs": []
    },
    {
      "cell_type": "code",
      "metadata": {
        "id": "u7SV9loBEbFy",
        "colab": {
          "base_uri": "https://localhost:8080/"
        },
        "outputId": "29047341-ba08-4e99-b25e-661f8db8b3fe"
      },
      "source": [
        "loaded_model = Model(dataset)\n",
        "loaded_model.load_state_dict(torch.load(\"manglish_model-ep35-bs128.pth\"))\n",
        "lyrics_generated = generate(model)\n",
        "#print(\"words=\",len(lyrics_generated.split(\" \")))\n",
        "print(lyrics_generated)"
      ],
      "execution_count": null,
      "outputs": [
        {
          "output_type": "stream",
          "text": [
            "Maanathe vellithingal manjalum chundinte punaruvathinoru bhaavukangal they\n",
            " peythu Charathaay shilapole \n",
            "Pen\n",
            "\n",
            "njaanethunnu\n",
            "Kaathoru naadha ( thanalaayidaam meki penne\n",
            "chinungi they chaaruchandrikaa  ponne Venal kulirunnu nombaram mounathode\n",
            "Wow ee thithai pidakkum kadalinte allin thaano \n",
            "padeedum\n",
            " snehachoodu kannum Hosaanaaya \n",
            "En kozhiyum\n",
            "peyyunna \n",
            "paariparakkunna viriyani\n",
            "raathriyilenkilum kondu koodum\n",
            "  koottaavillaa Wow numma\n",
            "orumicheedam Kaathil thammil komperunnoru kayyil\n",
            "makal Ne aa Thudi mooleele\n",
            "nullii\n",
            "nalkunnu\n",
            "Arodengilumothidanam ninnotte raavu kettodi thooki aakaashavum nullu\n",
            "vingalaay\n",
            "Thoovaanampili\n",
            "\n",
            "\n"
          ],
          "name": "stdout"
        }
      ]
    }
  ]
}